{
 "cells": [
  {
   "cell_type": "code",
   "execution_count": 3,
   "id": "initial_id",
   "metadata": {
    "collapsed": true,
    "ExecuteTime": {
     "end_time": "2024-03-24T18:01:57.271626Z",
     "start_time": "2024-03-24T18:01:56.659876Z"
    }
   },
   "outputs": [],
   "source": [
    "import pandas as pd"
   ]
  },
  {
   "cell_type": "code",
   "outputs": [
    {
     "data": {
      "text/plain": "                                              parent  \\\n0    1990s_American_adult_animated_television_series   \n1  1990s_American_comic_science_fiction_televisio...   \n2         1990s_American_satirical_television_series   \n3                             1990s_American_sitcoms   \n4    2000s_American_adult_animated_television_series   \n\n                                            children  \n0  Futurama The_Simpsons South_Park King_of_the_H...  \n1  Futurama Mystery_Science_Theater_3000 3rd_Rock...  \n2  Futurama The_Simpsons South_Park Family_Guy Th...  \n3  Futurama The_Simpsons South_Park King_of_the_H...  \n4  Futurama The_Simpsons South_Park King_of_the_H...  ",
      "text/html": "<div>\n<style scoped>\n    .dataframe tbody tr th:only-of-type {\n        vertical-align: middle;\n    }\n\n    .dataframe tbody tr th {\n        vertical-align: top;\n    }\n\n    .dataframe thead th {\n        text-align: right;\n    }\n</style>\n<table border=\"1\" class=\"dataframe\">\n  <thead>\n    <tr style=\"text-align: right;\">\n      <th></th>\n      <th>parent</th>\n      <th>children</th>\n    </tr>\n  </thead>\n  <tbody>\n    <tr>\n      <th>0</th>\n      <td>1990s_American_adult_animated_television_series</td>\n      <td>Futurama The_Simpsons South_Park King_of_the_H...</td>\n    </tr>\n    <tr>\n      <th>1</th>\n      <td>1990s_American_comic_science_fiction_televisio...</td>\n      <td>Futurama Mystery_Science_Theater_3000 3rd_Rock...</td>\n    </tr>\n    <tr>\n      <th>2</th>\n      <td>1990s_American_satirical_television_series</td>\n      <td>Futurama The_Simpsons South_Park Family_Guy Th...</td>\n    </tr>\n    <tr>\n      <th>3</th>\n      <td>1990s_American_sitcoms</td>\n      <td>Futurama The_Simpsons South_Park King_of_the_H...</td>\n    </tr>\n    <tr>\n      <th>4</th>\n      <td>2000s_American_adult_animated_television_series</td>\n      <td>Futurama The_Simpsons South_Park King_of_the_H...</td>\n    </tr>\n  </tbody>\n</table>\n</div>"
     },
     "execution_count": 6,
     "metadata": {},
     "output_type": "execute_result"
    }
   ],
   "source": [
    "df = pd.read_csv(\"children_cats.csv\")\n",
    "df.head()"
   ],
   "metadata": {
    "collapsed": false,
    "ExecuteTime": {
     "end_time": "2024-03-24T18:03:10.432436Z",
     "start_time": "2024-03-24T18:03:05.814226Z"
    }
   },
   "id": "d26e8dab2d6ba8b9",
   "execution_count": 6
  },
  {
   "cell_type": "code",
   "outputs": [
    {
     "data": {
      "text/plain": "                                                   parent  \\\n53                                  Fields_of_mathematics   \n140                                   Applied_mathematics   \n358                             Aftermath_of_World_War_II   \n622                                  Discrete_mathematics   \n1355                             Recreational_mathematics   \n...                                                   ...   \n866214                           Novels_about_mathematics   \n868921                         Palestinian_mathematicians   \n880223        Novels_about_the_aftermath_of_the_Holocaust   \n880601  Television_episodes_about_the_aftermath_of_The...   \n880945                                People_from_Imathia   \n\n                                                 children  \n53      Algebra Calculus Geometry Mathematical_analysi...  \n140     Algorithms Cryptography Theoretical_computer_s...  \n358     Cold_War Neo-Nazism United_Nations_Trust_Terri...  \n622     Combinatorics Graph_theory Number_theory Discr...  \n1355    Mathematical_games Integer_sequences Cellular_...  \n...                                                   ...  \n866214                          Novels_about_cryptography  \n868921                          Palestinian_statisticians  \n880223  Novels_about_Nazi_hunters Novels_about_Nazi_fu...  \n880601           Television_episodes_about_Nazi_fugitives  \n880945  People_from_Alexandreia,_Greece_(municipality)...  \n\n[348 rows x 2 columns]",
      "text/html": "<div>\n<style scoped>\n    .dataframe tbody tr th:only-of-type {\n        vertical-align: middle;\n    }\n\n    .dataframe tbody tr th {\n        vertical-align: top;\n    }\n\n    .dataframe thead th {\n        text-align: right;\n    }\n</style>\n<table border=\"1\" class=\"dataframe\">\n  <thead>\n    <tr style=\"text-align: right;\">\n      <th></th>\n      <th>parent</th>\n      <th>children</th>\n    </tr>\n  </thead>\n  <tbody>\n    <tr>\n      <th>53</th>\n      <td>Fields_of_mathematics</td>\n      <td>Algebra Calculus Geometry Mathematical_analysi...</td>\n    </tr>\n    <tr>\n      <th>140</th>\n      <td>Applied_mathematics</td>\n      <td>Algorithms Cryptography Theoretical_computer_s...</td>\n    </tr>\n    <tr>\n      <th>358</th>\n      <td>Aftermath_of_World_War_II</td>\n      <td>Cold_War Neo-Nazism United_Nations_Trust_Terri...</td>\n    </tr>\n    <tr>\n      <th>622</th>\n      <td>Discrete_mathematics</td>\n      <td>Combinatorics Graph_theory Number_theory Discr...</td>\n    </tr>\n    <tr>\n      <th>1355</th>\n      <td>Recreational_mathematics</td>\n      <td>Mathematical_games Integer_sequences Cellular_...</td>\n    </tr>\n    <tr>\n      <th>...</th>\n      <td>...</td>\n      <td>...</td>\n    </tr>\n    <tr>\n      <th>866214</th>\n      <td>Novels_about_mathematics</td>\n      <td>Novels_about_cryptography</td>\n    </tr>\n    <tr>\n      <th>868921</th>\n      <td>Palestinian_mathematicians</td>\n      <td>Palestinian_statisticians</td>\n    </tr>\n    <tr>\n      <th>880223</th>\n      <td>Novels_about_the_aftermath_of_the_Holocaust</td>\n      <td>Novels_about_Nazi_hunters Novels_about_Nazi_fu...</td>\n    </tr>\n    <tr>\n      <th>880601</th>\n      <td>Television_episodes_about_the_aftermath_of_The...</td>\n      <td>Television_episodes_about_Nazi_fugitives</td>\n    </tr>\n    <tr>\n      <th>880945</th>\n      <td>People_from_Imathia</td>\n      <td>People_from_Alexandreia,_Greece_(municipality)...</td>\n    </tr>\n  </tbody>\n</table>\n<p>348 rows × 2 columns</p>\n</div>"
     },
     "execution_count": 11,
     "metadata": {},
     "output_type": "execute_result"
    }
   ],
   "source": [
    "df[df[\"parent\"].str.contains(\"math\")]"
   ],
   "metadata": {
    "collapsed": false,
    "ExecuteTime": {
     "end_time": "2024-03-24T18:05:08.696772Z",
     "start_time": "2024-03-24T18:05:08.431582Z"
    }
   },
   "id": "b49df6e9ba5bbce2",
   "execution_count": 11
  },
  {
   "cell_type": "code",
   "outputs": [
    {
     "name": "stdout",
     "output_type": "stream",
     "text": [
      "(885621, 2)\n"
     ]
    },
    {
     "data": {
      "text/plain": "           parent                                           children\n1357  Mathematics  Mathematicians Theorems Mathematical_tools Mat...",
      "text/html": "<div>\n<style scoped>\n    .dataframe tbody tr th:only-of-type {\n        vertical-align: middle;\n    }\n\n    .dataframe tbody tr th {\n        vertical-align: top;\n    }\n\n    .dataframe thead th {\n        text-align: right;\n    }\n</style>\n<table border=\"1\" class=\"dataframe\">\n  <thead>\n    <tr style=\"text-align: right;\">\n      <th></th>\n      <th>parent</th>\n      <th>children</th>\n    </tr>\n  </thead>\n  <tbody>\n    <tr>\n      <th>1357</th>\n      <td>Mathematics</td>\n      <td>Mathematicians Theorems Mathematical_tools Mat...</td>\n    </tr>\n  </tbody>\n</table>\n</div>"
     },
     "execution_count": 17,
     "metadata": {},
     "output_type": "execute_result"
    }
   ],
   "source": [
    "print(df.shape)\n",
    "df[df[\"parent\"].str.lower() == \"mathematics\"]"
   ],
   "metadata": {
    "collapsed": false,
    "ExecuteTime": {
     "end_time": "2024-03-24T18:07:08.071393Z",
     "start_time": "2024-03-24T18:07:07.938511Z"
    }
   },
   "id": "2ab532e4e354688f",
   "execution_count": 17
  },
  {
   "cell_type": "code",
   "outputs": [
    {
     "name": "stderr",
     "output_type": "stream",
     "text": [
      "885621it [00:27, 31941.05it/s]\n"
     ]
    }
   ],
   "source": [
    "# iterate over lines\n",
    "import tqdm\n",
    "\n",
    "data = {}\n",
    "for index, row in tqdm.tqdm(df.iterrows()):\n",
    "    key = row[\"parent\"].lower()\n",
    "    vals = [x.lower() for x in row[\"children\"].split()]\n",
    "    if key in data:\n",
    "        data[key].extend(vals)\n",
    "    else:\n",
    "        data[key] = vals"
   ],
   "metadata": {
    "collapsed": false,
    "ExecuteTime": {
     "end_time": "2024-03-24T18:21:45.052670Z",
     "start_time": "2024-03-24T18:21:17.320780Z"
    }
   },
   "id": "60d65b644be713b5",
   "execution_count": 40
  },
  {
   "cell_type": "code",
   "outputs": [],
   "source": [
    "def depth_first(data, key, visited, depth, max_depth):\n",
    "    if depth > max_depth:\n",
    "        return\n",
    "    visited.add(key)\n",
    "    if key in data:\n",
    "        for child in data[key]:\n",
    "            if child not in visited:\n",
    "                depth_first(data, child, visited, depth + 1, max_depth)\n",
    "    return visited\n"
   ],
   "metadata": {
    "collapsed": false,
    "ExecuteTime": {
     "end_time": "2024-03-24T18:21:45.254605Z",
     "start_time": "2024-03-24T18:21:45.249847Z"
    }
   },
   "id": "61f0e225f8fec946",
   "execution_count": 42
  },
  {
   "cell_type": "code",
   "outputs": [],
   "source": [
    "roots = ['Formal_sciences', 'Mathematics', 'Mathematics_education', 'Equations', 'Heuristics', 'Measurement', 'Numbers',\n",
    "         'Proofs', 'Theorems', 'Fields_of_mathematics', 'Arithmetic', 'Algebra', 'Geometry', 'Trigonometry',\n",
    "         'Mathematical_analysis', 'Calculus', 'Logic', 'Deductive_reasoning', 'Inductive_reasoning', 'History_of_logic',\n",
    "         'Fallacies', 'Metalogic', 'Philosophy_of_logic', 'Mathematical_sciences', 'Computational_science',\n",
    "         'Operations_research', 'Theoretical_physics', 'Statistics', 'Analysis_of_variance', 'Bayesian_statistics',\n",
    "         'Categorical_data', 'Covariance_and_correlation', 'Data_analysis', 'Decision_theory', 'Design_of_experiments',\n",
    "         'Logic_and_statistics', 'Multivariate_statistics', 'Non-parametric_statistics', 'Parametric_statistics',\n",
    "         'Regression_analysis', 'Sampling', 'Statistical_theory', 'Stochastic_processes', 'Summary_statistics',\n",
    "         'Survival_analysis', 'Time_series', 'Science', 'Natural_sciences', 'Nature', 'Biology', 'Botany', 'Ecology',\n",
    "         'Health_sciences', 'Medicine', 'Neuroscience', 'Zoology', 'Earth_sciences', 'Atmospheric_sciences',\n",
    "         'Geography', 'Geology', 'Geophysics', 'Oceanography', 'Nature', 'Animals', 'Environment', 'Humans', 'Life',\n",
    "         'Natural_resources', 'Plants', 'Pollution', 'Physical_sciences', 'Astronomy', 'Chemistry', 'Climate',\n",
    "         'Physics', 'Space', 'Universe', 'Scientific_method', 'Scientists', 'Technology', 'Applied_sciences',\n",
    "         'Agriculture', 'Agronomy', 'Architecture', 'Automation', 'Biotechnology', 'Cartography',\n",
    "         'Chemical_engineering', 'Communication', 'Media_studies', 'Telecommunications', 'Construction',\n",
    "         'Control_theory', 'Design', 'Digital_divide', 'Earthquake_engineering', 'Energy', 'Ergonomics', 'Firefighting',\n",
    "         'Fire_prevention', 'Forensic_science', 'Forestry', 'Industry', 'Information_science', 'Internet', 'Management',\n",
    "         'Manufacturing', 'Marketing', 'Medicine', 'Unsolved_problems_in_neuroscience', 'Metalworking',\n",
    "         'Microtechnology', 'Military_science', 'Mining', 'Nanotechnology', 'Nuclear_technology', 'Optics', 'Plumbing',\n",
    "         'Robotics', 'Sound_technology', 'Technology_forecasting', 'Tools', 'Computing', 'Apps',\n",
    "         'Artificial_intelligence', 'Classes_of_computers', 'Companies', 'Computer_architecture', 'Computer_model',\n",
    "         'Computer_engineering', 'Computer_science', 'Computer_security', 'Computing_and_society', 'Data',\n",
    "         'Embedded_systems', 'Free_software', 'Human–computer_interaction', 'Information_systems',\n",
    "         'Information_technology', 'Internet', 'Mobile_web', 'Languages', 'Multimedia', 'Operating_systems',\n",
    "         'Platforms', 'Product_lifecycle_management', 'Programming', 'Real-time_computing', 'Software',\n",
    "         'Software_engineering', 'Unsolved_problems_in_computer_science', 'Electronics', 'Avionics', 'Circuits',\n",
    "         'Companies', 'Connectors', 'Consumer_electronics', 'Digital_electronics', 'Digital_media',\n",
    "         'Electrical_components', 'Electronic_design', 'Electronics_manufacturing', 'Embedded_systems',\n",
    "         'Integrated_circuits', 'Microwave_technology', 'Molecular_electronics', 'Water_technology', 'Optoelectronics',\n",
    "         'Quantum_electronics', 'Radio_electronics', 'Semiconductors', 'Signal_cables', 'Surveillance',\n",
    "         'Telecommunications', 'Engineering', 'Aerospace_engineering', 'Bioengineering', 'Chemical_engineering',\n",
    "         'Civil_engineering', 'Electrical_engineering', 'Environmental_engineering', 'Materials_science',\n",
    "         'Mechanical_engineering', 'Nuclear_technology', 'Software_engineering', 'Structural_engineering',\n",
    "         'Systems_engineering', 'Transport', 'By_country', 'Aviation', 'Cars', 'Cycling', 'Public_transport',\n",
    "         'Rail_transport', 'Road_transport', 'Shipping', 'Spaceflight', 'Vehicles', 'Water_transport',\n",
    "         'Technology_timelines']\n"
   ],
   "metadata": {
    "collapsed": false,
    "ExecuteTime": {
     "end_time": "2024-03-24T19:14:36.280896Z",
     "start_time": "2024-03-24T19:14:36.269835Z"
    }
   },
   "id": "4bb82a1e8c00e18c",
   "execution_count": 65
  },
  {
   "cell_type": "code",
   "outputs": [
    {
     "name": "stdout",
     "output_type": "stream",
     "text": [
      "Formal_sciences 995\n",
      "Mathematics 924\n",
      "Mathematics_education 62\n",
      "Equations 74\n",
      "Heuristics 94\n",
      "Measurement 848\n",
      "Numbers 236\n",
      "Proofs 1\n",
      "Theorems 86\n",
      "Fields_of_mathematics 931\n",
      "Arithmetic 39\n",
      "Algebra 228\n",
      "Geometry 376\n",
      "Trigonometry 14\n",
      "Mathematical_analysis 507\n",
      "Calculus 56\n",
      "Logic 441\n",
      "Deductive_reasoning 64\n",
      "Inductive_reasoning 26\n",
      "History_of_logic 16\n",
      "Fallacies 21\n",
      "Metalogic 104\n",
      "Philosophy_of_logic 241\n",
      "Mathematical_sciences 1\n",
      "Computational_science 285\n",
      "Operations_research 108\n",
      "Theoretical_physics 340\n",
      "Statistics 335\n",
      "Analysis_of_variance 2\n",
      "Bayesian_statistics 12\n",
      "Categorical_data 14\n",
      "Covariance_and_correlation 2\n",
      "Data_analysis 130\n",
      "Decision_theory 37\n",
      "Design_of_experiments 9\n",
      "Logic_and_statistics 2\n",
      "Multivariate_statistics 42\n",
      "Non-parametric_statistics 1\n",
      "Parametric_statistics 1\n",
      "Regression_analysis 22\n",
      "Sampling 1\n",
      "Statistical_theory 170\n",
      "Stochastic_processes 46\n",
      "Summary_statistics 27\n",
      "Survival_analysis 1\n",
      "Time_series 16\n",
      "Science 2804\n",
      "Natural_sciences 580\n",
      "Nature 2103\n",
      "Biology 1751\n",
      "Botany 781\n",
      "Ecology 731\n",
      "Health_sciences 861\n",
      "Medicine 1823\n",
      "Neuroscience 531\n",
      "Zoology 748\n",
      "Earth_sciences 964\n",
      "Atmospheric_sciences 150\n",
      "Geography 2365\n",
      "Geology 2216\n",
      "Geophysics 295\n",
      "Oceanography 726\n",
      "Nature 2103\n",
      "Animals 1487\n",
      "Environment 1\n",
      "Humans 2220\n",
      "Life 1619\n",
      "Natural_resources 1498\n",
      "Plants 989\n",
      "Pollution 279\n",
      "Physical_sciences 1380\n",
      "Astronomy 2189\n",
      "Chemistry 1896\n",
      "Climate 323\n",
      "Physics 985\n",
      "Space 565\n",
      "Universe 597\n",
      "Scientific_method 591\n",
      "Scientists 3003\n",
      "Technology 2390\n",
      "Applied_sciences 1640\n",
      "Agriculture 2118\n",
      "Agronomy 265\n",
      "Architecture 3029\n",
      "Automation 287\n",
      "Biotechnology 708\n",
      "Cartography 851\n",
      "Chemical_engineering 402\n",
      "Communication 3463\n",
      "Media_studies 499\n",
      "Telecommunications 2400\n",
      "Construction 3464\n",
      "Control_theory 67\n",
      "Design 1839\n",
      "Digital_divide 36\n",
      "Earthquake_engineering 26\n",
      "Energy 2064\n",
      "Ergonomics 82\n",
      "Firefighting 254\n",
      "Fire_prevention 16\n",
      "Forensic_science 1\n",
      "Forestry 454\n",
      "Industry 3226\n",
      "Information_science 983\n",
      "Internet 1062\n",
      "Management 639\n",
      "Manufacturing 968\n",
      "Marketing 805\n",
      "Medicine 1823\n",
      "Unsolved_problems_in_neuroscience 181\n",
      "Metalworking 216\n",
      "Microtechnology 62\n",
      "Military_science 1030\n",
      "Mining 1208\n",
      "Nanotechnology 75\n",
      "Nuclear_technology 501\n",
      "Optics 473\n",
      "Plumbing 91\n",
      "Robotics 370\n",
      "Sound_technology 216\n",
      "Technology_forecasting 33\n",
      "Tools 1310\n",
      "Computing 1723\n",
      "Apps 1\n",
      "Artificial_intelligence 536\n",
      "Classes_of_computers 443\n",
      "Companies 4773\n",
      "Computer_architecture 706\n",
      "Computer_model 1\n",
      "Computer_engineering 664\n",
      "Computer_science 1414\n",
      "Computer_security 320\n",
      "Computing_and_society 556\n",
      "Data 520\n",
      "Embedded_systems 389\n",
      "Free_software 406\n",
      "Human–computer_interaction 320\n",
      "Information_systems 435\n",
      "Information_technology 1407\n",
      "Internet 1062\n",
      "Mobile_web 9\n",
      "Languages 2650\n",
      "Multimedia 452\n",
      "Operating_systems 863\n",
      "Platforms 1\n",
      "Product_lifecycle_management 79\n",
      "Programming 1\n",
      "Real-time_computing 45\n",
      "Software 2386\n",
      "Software_engineering 319\n",
      "Unsolved_problems_in_computer_science 1\n",
      "Electronics 1047\n",
      "Avionics 26\n",
      "Circuits 1\n",
      "Companies 4773\n",
      "Connectors 1\n",
      "Consumer_electronics 390\n",
      "Digital_electronics 94\n",
      "Digital_media 2167\n",
      "Electrical_components 178\n",
      "Electronic_design 126\n",
      "Electronics_manufacturing 440\n",
      "Embedded_systems 389\n",
      "Integrated_circuits 144\n",
      "Microwave_technology 74\n",
      "Molecular_electronics 3\n",
      "Water_technology 31\n",
      "Optoelectronics 70\n",
      "Quantum_electronics 5\n",
      "Radio_electronics 33\n",
      "Semiconductors 75\n",
      "Signal_cables 12\n",
      "Surveillance 429\n",
      "Telecommunications 2400\n",
      "Engineering 1127\n",
      "Aerospace_engineering 715\n",
      "Bioengineering 1\n",
      "Chemical_engineering 402\n",
      "Civil_engineering 6958\n",
      "Electrical_engineering 915\n",
      "Environmental_engineering 315\n",
      "Materials_science 430\n",
      "Mechanical_engineering 719\n",
      "Nuclear_technology 501\n",
      "Software_engineering 319\n",
      "Structural_engineering 1720\n",
      "Systems_engineering 672\n",
      "Transport 6081\n",
      "By_country 1\n",
      "Aviation 4224\n",
      "Cars 854\n",
      "Cycling 1027\n",
      "Public_transport 858\n",
      "Rail_transport 5110\n",
      "Road_transport 1543\n",
      "Shipping 1099\n",
      "Spaceflight 932\n",
      "Vehicles 2328\n",
      "Water_transport 1867\n",
      "Technology_timelines 341\n",
      "95248\n"
     ]
    }
   ],
   "source": [
    "selected = set()\n",
    "for r in roots:\n",
    "    visited = depth_first(data, r.lower(), set(), 0, 3)\n",
    "    print(r, len(visited))\n",
    "    selected.update(visited)\n",
    "print(len(selected))\n",
    "    "
   ],
   "metadata": {
    "collapsed": false,
    "ExecuteTime": {
     "end_time": "2024-03-24T19:29:37.519983Z",
     "start_time": "2024-03-24T19:29:37.269402Z"
    }
   },
   "id": "20fbacaa848eb209",
   "execution_count": 99
  },
  {
   "cell_type": "code",
   "outputs": [
    {
     "name": "stdout",
     "output_type": "stream",
     "text": [
      "class_field_theory\n"
     ]
    }
   ],
   "source": [
    "for x in selected:\n",
    "    if \"class_field\" in x:\n",
    "        print(x)"
   ],
   "metadata": {
    "collapsed": false,
    "ExecuteTime": {
     "end_time": "2024-03-24T19:29:39.713221Z",
     "start_time": "2024-03-24T19:29:39.680095Z"
    }
   },
   "id": "4614498b95787800",
   "execution_count": 100
  }
 ],
 "metadata": {
  "kernelspec": {
   "display_name": "Python 3",
   "language": "python",
   "name": "python3"
  },
  "language_info": {
   "codemirror_mode": {
    "name": "ipython",
    "version": 2
   },
   "file_extension": ".py",
   "mimetype": "text/x-python",
   "name": "python",
   "nbconvert_exporter": "python",
   "pygments_lexer": "ipython2",
   "version": "2.7.6"
  }
 },
 "nbformat": 4,
 "nbformat_minor": 5
}
