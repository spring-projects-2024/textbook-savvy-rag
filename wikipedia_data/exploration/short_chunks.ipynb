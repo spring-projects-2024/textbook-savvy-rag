{
 "cells": [
  {
   "cell_type": "code",
   "execution_count": 2,
   "metadata": {},
   "outputs": [],
   "source": [
    "import sys\n",
    "sys.path.append('..')\n",
    "from utils import scroll_pages, extract_tag\n",
    "import json"
   ]
  },
  {
   "cell_type": "code",
   "execution_count": 3,
   "metadata": {},
   "outputs": [],
   "source": [
    "SHORT_TEXT_LENGTH = 50\n",
    "dump_path = \"../subsample_chunked.xml\"\n",
    "short_chunks_path = \"short_chunks.json\""
   ]
  },
  {
   "cell_type": "code",
   "execution_count": 4,
   "metadata": {},
   "outputs": [],
   "source": [
    "short_chunks = []\n",
    "total_chunks = 0\n",
    "with open(dump_path, \"r\") as f:\n",
    "    for page in scroll_pages(f):\n",
    "        page = extract_tag(page, tag=\"page\", add_tag=False)\n",
    "        page = json.loads(page)\n",
    "        for chunk in page:\n",
    "            total_chunks += 1\n",
    "            if len(chunk[\"text\"]) < SHORT_TEXT_LENGTH:\n",
    "                short_chunks.append(chunk)"
   ]
  },
  {
   "cell_type": "code",
   "execution_count": 5,
   "metadata": {},
   "outputs": [],
   "source": [
    "short_chunks.sort(key=lambda chunk: len(chunk['text']))"
   ]
  },
  {
   "cell_type": "code",
   "execution_count": 6,
   "metadata": {},
   "outputs": [
    {
     "name": "stdout",
     "output_type": "stream",
     "text": [
      "Number of short text:  343848\n",
      "Percentage of short text:  0.04199830784370749\n"
     ]
    }
   ],
   "source": [
    "print(\"Number of short text: \", len(short_chunks))\n",
    "print(\"Percentage of short text: \", len(short_chunks) / total_chunks)"
   ]
  },
  {
   "cell_type": "code",
   "execution_count": 7,
   "metadata": {},
   "outputs": [],
   "source": [
    "with open(short_chunks_path, 'w') as f:\n",
    "    json.dump(short_chunks, f)"
   ]
  }
 ],
 "metadata": {
  "kernelspec": {
   "display_name": "Python 3",
   "language": "python",
   "name": "python3"
  },
  "language_info": {
   "codemirror_mode": {
    "name": "ipython",
    "version": 3
   },
   "file_extension": ".py",
   "mimetype": "text/x-python",
   "name": "python",
   "nbconvert_exporter": "python",
   "pygments_lexer": "ipython3",
   "version": "3.11.1"
  }
 },
 "nbformat": 4,
 "nbformat_minor": 2
}
