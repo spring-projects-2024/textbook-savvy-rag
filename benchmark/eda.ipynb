{
    "cells": [
        {
            "cell_type": "code",
            "execution_count": 1,
            "metadata": {},
            "outputs": [
                {
                    "name": "stderr",
                    "output_type": "stream",
                    "text": [
                        "/Users/mat/anaconda3/envs/nlp/lib/python3.11/site-packages/tqdm/auto.py:21: TqdmWarning: IProgress not found. Please update jupyter and ipywidgets. See https://ipywidgets.readthedocs.io/en/stable/user_install.html\n",
                        "  from .autonotebook import tqdm as notebook_tqdm\n"
                    ]
                }
            ],
            "source": [
                "from datasets import load_dataset"
            ]
        },
        {
            "cell_type": "code",
            "execution_count": 36,
            "metadata": {},
            "outputs": [],
            "source": [
                "dataset = load_dataset(\"cais/mmlu\", \"all\")"
            ]
        },
        {
            "cell_type": "code",
            "execution_count": 37,
            "metadata": {},
            "outputs": [
                {
                    "data": {
                        "text/plain": [
                            "DatasetDict({\n",
                            "    test: Dataset({\n",
                            "        features: ['question', 'subject', 'choices', 'answer'],\n",
                            "        num_rows: 14042\n",
                            "    })\n",
                            "    validation: Dataset({\n",
                            "        features: ['question', 'subject', 'choices', 'answer'],\n",
                            "        num_rows: 1531\n",
                            "    })\n",
                            "    dev: Dataset({\n",
                            "        features: ['question', 'subject', 'choices', 'answer'],\n",
                            "        num_rows: 285\n",
                            "    })\n",
                            "    auxiliary_train: Dataset({\n",
                            "        features: ['question', 'subject', 'choices', 'answer'],\n",
                            "        num_rows: 99842\n",
                            "    })\n",
                            "})"
                        ]
                    },
                    "execution_count": 37,
                    "metadata": {},
                    "output_type": "execute_result"
                }
            ],
            "source": [
                "dataset"
            ]
        },
        {
            "cell_type": "code",
            "execution_count": 38,
            "metadata": {},
            "outputs": [
                {
                    "data": {
                        "text/plain": [
                            "Dataset({\n",
                            "    features: ['question', 'subject', 'choices', 'answer'],\n",
                            "    num_rows: 14042\n",
                            "})"
                        ]
                    },
                    "execution_count": 38,
                    "metadata": {},
                    "output_type": "execute_result"
                }
            ],
            "source": [
                "dataset[\"test\"]"
            ]
        },
        {
            "cell_type": "code",
            "execution_count": 39,
            "metadata": {},
            "outputs": [
                {
                    "name": "stdout",
                    "output_type": "stream",
                    "text": [
                        "Subject: professional_psychology\n",
                        "Question: Of the following, the best predictor of a child’s post-divorce adjustment during the 2 years following divorce is the\n",
                        "Choices: ['withdrawal of the more disturbed parent', 'degree of continued conflict between the parents after the divorce', 'residence of the child with the preferred parent', 'degree of hostility during the divorce process']\n",
                        "Answer: 1\n"
                    ]
                }
            ],
            "source": [
                "i = 13000\n",
                "question = dataset[\"test\"][i][\"question\"]\n",
                "choices = dataset[\"test\"][i][\"choices\"]\n",
                "answer = dataset[\"test\"][i][\"answer\"]\n",
                "subject = dataset[\"test\"][i][\"subject\"]\n",
                "print(f\"Subject: {subject}\")\n",
                "print(f\"Question: {question}\\nChoices: {choices}\\nAnswer: {answer}\")"
            ]
        },
        {
            "cell_type": "code",
            "execution_count": 40,
            "metadata": {},
            "outputs": [],
            "source": [
                "stem = [\"abstract_algebra\", \"astronomy\", \"college_biology\", \"college_chemistry\", \"college_computer_science\", \"college_mathematics\", \"college_physics\", \"computer_security\", \"conceptual_physics\", \"electrical_engineering\", \"elementary_mathematics\", \"high_school_biology\", \"high_school_chemistry\", \"high_school_computer_science\", \"high_school_mathematics\", \"high_school_physics\", \"high_school_statistics\", \"machine_learning\"]\n",
                "mask = [subj in stem for subj in dataset[\"test\"][\"subject\"]]"
            ]
        },
        {
            "cell_type": "code",
            "execution_count": 42,
            "metadata": {},
            "outputs": [],
            "source": [
                "stem_questions = [question for question, boolean in zip(dataset[\"test\"], mask) if boolean]"
            ]
        },
        {
            "cell_type": "code",
            "execution_count": 44,
            "metadata": {},
            "outputs": [
                {
                    "data": {
                        "text/plain": [
                            "3018"
                        ]
                    },
                    "execution_count": 44,
                    "metadata": {},
                    "output_type": "execute_result"
                }
            ],
            "source": [
                "len(stem_questions)"
            ]
        },
        {
            "cell_type": "code",
            "execution_count": 45,
            "metadata": {},
            "outputs": [
                {
                    "name": "stderr",
                    "output_type": "stream",
                    "text": [
                        "Filter: 100%|██████████| 14042/14042 [00:00<00:00, 201050.77 examples/s]\n"
                    ]
                },
                {
                    "data": {
                        "text/plain": [
                            "3018"
                        ]
                    },
                    "execution_count": 45,
                    "metadata": {},
                    "output_type": "execute_result"
                }
            ],
            "source": [
                "# create dataset with only stem subjects\n",
                "stem_dataset = dataset[\"test\"].filter(lambda example: example[\"subject\"] in stem)\n",
                "len(stem_dataset)"
            ]
        }
    ],
    "metadata": {
        "kernelspec": {
            "display_name": "nlp",
            "language": "python",
            "name": "python3"
        },
        "language_info": {
            "codemirror_mode": {
                "name": "ipython",
                "version": 3
            },
            "file_extension": ".py",
            "mimetype": "text/x-python",
            "name": "python",
            "nbconvert_exporter": "python",
            "pygments_lexer": "ipython3",
            "version": "3.11.8"
        }
    },
    "nbformat": 4,
    "nbformat_minor": 2
}