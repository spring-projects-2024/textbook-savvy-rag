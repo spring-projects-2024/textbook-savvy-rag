{
    "cells": [
        {
            "cell_type": "code",
            "execution_count": 1,
            "metadata": {},
            "outputs": [
                {
                    "name": "stderr",
                    "output_type": "stream",
                    "text": [
                        "/Users/mat/anaconda3/envs/nlp/lib/python3.11/site-packages/tqdm/auto.py:21: TqdmWarning: IProgress not found. Please update jupyter and ipywidgets. See https://ipywidgets.readthedocs.io/en/stable/user_install.html\n",
                        "  from .autonotebook import tqdm as notebook_tqdm\n"
                    ]
                }
            ],
            "source": [
                "from datasets import load_dataset"
            ]
        },
        {
            "cell_type": "code",
            "execution_count": 2,
            "metadata": {},
            "outputs": [],
            "source": [
                "dataset = load_dataset(\"cais/mmlu\", \"all\")"
            ]
        },
        {
            "cell_type": "code",
            "execution_count": 3,
            "metadata": {},
            "outputs": [
                {
                    "data": {
                        "text/plain": [
                            "DatasetDict({\n",
                            "    test: Dataset({\n",
                            "        features: ['question', 'subject', 'choices', 'answer'],\n",
                            "        num_rows: 14042\n",
                            "    })\n",
                            "    validation: Dataset({\n",
                            "        features: ['question', 'subject', 'choices', 'answer'],\n",
                            "        num_rows: 1531\n",
                            "    })\n",
                            "    dev: Dataset({\n",
                            "        features: ['question', 'subject', 'choices', 'answer'],\n",
                            "        num_rows: 285\n",
                            "    })\n",
                            "    auxiliary_train: Dataset({\n",
                            "        features: ['question', 'subject', 'choices', 'answer'],\n",
                            "        num_rows: 99842\n",
                            "    })\n",
                            "})"
                        ]
                    },
                    "execution_count": 3,
                    "metadata": {},
                    "output_type": "execute_result"
                }
            ],
            "source": [
                "dataset"
            ]
        },
        {
            "cell_type": "code",
            "execution_count": 38,
            "metadata": {},
            "outputs": [
                {
                    "data": {
                        "text/plain": [
                            "Dataset({\n",
                            "    features: ['question', 'subject', 'choices', 'answer'],\n",
                            "    num_rows: 14042\n",
                            "})"
                        ]
                    },
                    "execution_count": 38,
                    "metadata": {},
                    "output_type": "execute_result"
                }
            ],
            "source": [
                "dataset[\"test\"]"
            ]
        },
        {
            "cell_type": "code",
            "execution_count": 39,
            "metadata": {},
            "outputs": [
                {
                    "name": "stdout",
                    "output_type": "stream",
                    "text": [
                        "Subject: professional_psychology\n",
                        "Question: Of the following, the best predictor of a child’s post-divorce adjustment during the 2 years following divorce is the\n",
                        "Choices: ['withdrawal of the more disturbed parent', 'degree of continued conflict between the parents after the divorce', 'residence of the child with the preferred parent', 'degree of hostility during the divorce process']\n",
                        "Answer: 1\n"
                    ]
                }
            ],
            "source": [
                "i = 13000\n",
                "question = dataset[\"test\"][i][\"question\"]\n",
                "choices = dataset[\"test\"][i][\"choices\"]\n",
                "answer = dataset[\"test\"][i][\"answer\"]\n",
                "subject = dataset[\"test\"][i][\"subject\"]\n",
                "print(f\"Subject: {subject}\")\n",
                "print(f\"Question: {question}\\nChoices: {choices}\\nAnswer: {answer}\")"
            ]
        },
        {
            "cell_type": "code",
            "execution_count": 40,
            "metadata": {},
            "outputs": [],
            "source": [
                "stem = [\"abstract_algebra\", \"astronomy\", \"college_biology\", \"college_chemistry\", \"college_computer_science\", \"college_mathematics\", \"college_physics\", \"computer_security\", \"conceptual_physics\", \"electrical_engineering\", \"elementary_mathematics\", \"high_school_biology\", \"high_school_chemistry\", \"high_school_computer_science\", \"high_school_mathematics\", \"high_school_physics\", \"high_school_statistics\", \"machine_learning\"]\n",
                "mask = [subj in stem for subj in dataset[\"test\"][\"subject\"]]"
            ]
        },
        {
            "cell_type": "code",
            "execution_count": 42,
            "metadata": {},
            "outputs": [],
            "source": [
                "stem_questions = [question for question, boolean in zip(dataset[\"test\"], mask) if boolean]"
            ]
        },
        {
            "cell_type": "code",
            "execution_count": 44,
            "metadata": {},
            "outputs": [
                {
                    "data": {
                        "text/plain": [
                            "3018"
                        ]
                    },
                    "execution_count": 44,
                    "metadata": {},
                    "output_type": "execute_result"
                }
            ],
            "source": [
                "len(stem_questions)"
            ]
        },
        {
            "cell_type": "code",
            "execution_count": 45,
            "metadata": {},
            "outputs": [
                {
                    "name": "stderr",
                    "output_type": "stream",
                    "text": [
                        "Filter: 100%|██████████| 14042/14042 [00:00<00:00, 201050.77 examples/s]\n"
                    ]
                },
                {
                    "data": {
                        "text/plain": [
                            "3018"
                        ]
                    },
                    "execution_count": 45,
                    "metadata": {},
                    "output_type": "execute_result"
                }
            ],
            "source": [
                "# create dataset with only stem subjects\n",
                "stem_dataset = dataset[\"test\"].filter(lambda example: example[\"subject\"] in stem)\n",
                "len(stem_dataset)"
            ]
        },
        {
            "cell_type": "code",
            "execution_count": 4,
            "metadata": {},
            "outputs": [],
            "source": [
                "from backend.benchmark.utils import load_mmlu"
            ]
        },
        {
            "cell_type": "code",
            "execution_count": 19,
            "metadata": {},
            "outputs": [],
            "source": [
                "data = load_mmlu(split=\"test\", subset=None)"
            ]
        },
        {
            "cell_type": "code",
            "execution_count": 20,
            "metadata": {},
            "outputs": [
                {
                    "data": {
                        "text/plain": [
                            "{'question': 'Samantha has 342 baseball cards. Perry has 184 baseball cards. How many more baseball cards does Samantha have than Perry?',\n",
                            " 'subject': 'elementary_mathematics',\n",
                            " 'choices': ['158', '168', '258', '268'],\n",
                            " 'answer': 0}"
                        ]
                    },
                    "execution_count": 20,
                    "metadata": {},
                    "output_type": "execute_result"
                }
            ],
            "source": [
                "data[2302]"
            ]
        },
        {
            "cell_type": "markdown",
            "metadata": {},
            "source": [
                "## Yahoo answers"
            ]
        },
        {
            "cell_type": "code",
            "execution_count": 21,
            "metadata": {},
            "outputs": [
                {
                    "name": "stderr",
                    "output_type": "stream",
                    "text": [
                        "Downloading data: 100%|██████████| 89.3M/89.3M [00:26<00:00, 3.35MB/s]\n",
                        "Generating train split: 100%|██████████| 87362/87362 [00:00<00:00, 670611.49 examples/s]\n"
                    ]
                }
            ],
            "source": [
                "from datasets import load_dataset\n",
                "\n",
                "dataset = load_dataset(\"yahoo_answers_qa\")"
            ]
        },
        {
            "cell_type": "code",
            "execution_count": 23,
            "metadata": {},
            "outputs": [
                {
                    "data": {
                        "text/plain": [
                            "Dataset({\n",
                            "    features: ['id', 'question', 'answer', 'nbestanswers', 'main_category'],\n",
                            "    num_rows: 87362\n",
                            "})"
                        ]
                    },
                    "execution_count": 23,
                    "metadata": {},
                    "output_type": "execute_result"
                }
            ],
            "source": [
                "dataset = dataset[\"train\"]\n",
                "dataset"
            ]
        },
        {
            "cell_type": "code",
            "execution_count": 24,
            "metadata": {},
            "outputs": [
                {
                    "data": {
                        "text/plain": [
                            "{'id': '2020338',\n",
                            " 'question': 'Why did the U.S Invade Iraq ?',\n",
                            " 'answer': \"A small group of politicians believed strongly that the fact that Saddam Hussien remained in power after the first Gulf War was a signal of weakness to the rest of the world, one that invited attacks and terrorism. Shortly after taking power with George Bush in 2000 and after the attack on 9/11, they were able to use the terrorist attacks to justify war with Iraq on this basis and exaggerated threats of the development of weapons of mass destruction. The military strength of the U.S. and the brutality of Saddam's regime led them to imagine that the military and political victory would be relatively easy.\",\n",
                            " 'nbestanswers': [\"A small group of politicians believed strongly that the fact that Saddam Hussien remained in power after the first Gulf War was a signal of weakness to the rest of the world, one that invited attacks and terrorism. Shortly after taking power with George Bush in 2000 and after the attack on 9/11, they were able to use the terrorist attacks to justify war with Iraq on this basis and exaggerated threats of the development of weapons of mass destruction. The military strength of the U.S. and the brutality of Saddam's regime led them to imagine that the military and political victory would be relatively easy.\",\n",
                            "  'Because there is a lot of oil in Iraq.',\n",
                            "  'It is tempting to say that the US invaded Iraq because it has lots of oil, but the US is not a country in a deep economic problem that capturing other country’s oil is an actual need for survival. It is more likely that the Iraq invading Kuwait scenario would fall under that assumption.. I think that the US government has come to a conclusion that we are on the verge of a war of religions, or more likely ideologies. It would be presumptuous to try and determent a one cause to the coming war. . I think that the world wide spread of the media with its many forms (Cable, Satellite, Internet, etc.)  have pushed the Moslem regimes to the extreme, fearing that secularity and democratic influence is penetrating their country and will result in an up raising against them. One of the best way to maintain the power that you have and even gain more of it, is by hatred. When the common man is occupied hating an outside enemy, its hatred is kept out side the county and would not be directed towards the regime. . So- I believe that the US understands that the fanatic Moslem regimes have already started a war on the democratic world and now is the time to try a fight it.. . So why invade Iraq? Because it is a huge, week Moslem country that thought to be easy to defeat. . This is exactly the same reason why Afghanistan was first and Syria is next in line.',\n",
                            "  'I think Yuval is pretty spot on. It\\'s a proving ground and a focal point for terror activity that\\'s not on American soil. And, because no one liked Saddam Hussein, no other countries (even in the Middle East) were about to rise up and join his side.. . Rabid speculation: now the Pentagon has a model that says it takes ~5 years, ~$200B and ~2,000 casualties to \"rebuild\" a dictatorship into a democracy. Who\\'s next on the list?'],\n",
                            " 'main_category': 'News & Events'}"
                        ]
                    },
                    "execution_count": 24,
                    "metadata": {},
                    "output_type": "execute_result"
                }
            ],
            "source": [
                "dataset[0]"
            ]
        },
        {
            "cell_type": "code",
            "execution_count": 25,
            "metadata": {},
            "outputs": [
                {
                    "data": {
                        "text/plain": [
                            "{'Arts & Humanities',\n",
                            " 'Asia Pacific',\n",
                            " 'Business & Finance',\n",
                            " 'Cars & Transportation',\n",
                            " 'Computers & Internet',\n",
                            " 'Consumer Electronics',\n",
                            " 'Dining Out',\n",
                            " 'Education & Reference',\n",
                            " 'Food & Drink',\n",
                            " 'Games & Recreation',\n",
                            " 'Health',\n",
                            " 'Local Businesses',\n",
                            " 'News & Events',\n",
                            " 'Pets',\n",
                            " 'Politics & Government',\n",
                            " 'Science & Mathematics',\n",
                            " 'Social Science',\n",
                            " 'Society & Culture',\n",
                            " 'Travel',\n",
                            " 'Yahoo! Products',\n",
                            " 'Yahoo!7 Products'}"
                        ]
                    },
                    "execution_count": 25,
                    "metadata": {},
                    "output_type": "execute_result"
                }
            ],
            "source": [
                "set(dataset['main_category'])"
            ]
        }
    ],
    "metadata": {
        "kernelspec": {
            "display_name": "nlp",
            "language": "python",
            "name": "python3"
        },
        "language_info": {
            "codemirror_mode": {
                "name": "ipython",
                "version": 3
            },
            "file_extension": ".py",
            "mimetype": "text/x-python",
            "name": "python",
            "nbconvert_exporter": "python",
            "pygments_lexer": "ipython3",
            "version": "3.11.8"
        }
    },
    "nbformat": 4,
    "nbformat_minor": 2
}
