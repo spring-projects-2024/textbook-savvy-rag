{
 "cells": [
  {
   "cell_type": "code",
   "execution_count": 2,
   "metadata": {},
   "outputs": [
    {
     "ename": "KeyboardInterrupt",
     "evalue": "",
     "output_type": "error",
     "traceback": [
      "\u001b[0;31m---------------------------------------------------------------------------\u001b[0m",
      "\u001b[0;31mKeyboardInterrupt\u001b[0m                         Traceback (most recent call last)",
      "Cell \u001b[0;32mIn[2], line 3\u001b[0m\n\u001b[1;32m      1\u001b[0m \u001b[38;5;28;01mimport\u001b[39;00m \u001b[38;5;21;01myaml\u001b[39;00m\n\u001b[1;32m      2\u001b[0m \u001b[38;5;28;01mimport\u001b[39;00m \u001b[38;5;21;01margparse\u001b[39;00m\n\u001b[0;32m----> 3\u001b[0m \u001b[38;5;28;01mfrom\u001b[39;00m \u001b[38;5;21;01mbackend\u001b[39;00m\u001b[38;5;21;01m.\u001b[39;00m\u001b[38;5;21;01mmodel\u001b[39;00m\u001b[38;5;21;01m.\u001b[39;00m\u001b[38;5;21;01mrag_handler\u001b[39;00m \u001b[38;5;28;01mimport\u001b[39;00m RagHandler\n\u001b[1;32m      6\u001b[0m config_path \u001b[38;5;241m=\u001b[39m \u001b[38;5;124m\"\u001b[39m\u001b[38;5;124mconfigs/training/final.yaml\u001b[39m\u001b[38;5;124m\"\u001b[39m\n\u001b[1;32m      7\u001b[0m \u001b[38;5;28;01mwith\u001b[39;00m \u001b[38;5;28mopen\u001b[39m(config_path, \u001b[38;5;124m\"\u001b[39m\u001b[38;5;124mr\u001b[39m\u001b[38;5;124m\"\u001b[39m) \u001b[38;5;28;01mas\u001b[39;00m f:\n",
      "File \u001b[0;32m<frozen importlib._bootstrap>:224\u001b[0m, in \u001b[0;36m_lock_unlock_module\u001b[0;34m(name)\u001b[0m\n",
      "File \u001b[0;32m<frozen importlib._bootstrap>:120\u001b[0m, in \u001b[0;36macquire\u001b[0;34m(self)\u001b[0m\n",
      "\u001b[0;31mKeyboardInterrupt\u001b[0m: "
     ]
    }
   ],
   "source": [
    "import yaml\n",
    "import argparse\n",
    "from backend.model.rag_handler import RagHandler\n",
    "\n",
    "\n",
    "config_path = \"configs/training/final.yaml\"\n",
    "with open(config_path, \"r\") as f:\n",
    "    config = yaml.safe_load(f)\n",
    "\n",
    "device = config[\"device\"]\n",
    "model_name = config[\"model_name\"]\n",
    "run_id = config[\"run_id\"]\n",
    "use_qlora = config[\"use_qlora\"]\n",
    "optimizer_params = config[\"optimizer_params\"]\n",
    "max_epochs = config[\"max_epochs\"]\n",
    "batch_size = config[\"batch_size\"]\n",
    "gradient_accumulation_steps = config[\"gradient_accumulation_steps\"]\n",
    "log_to_wandb = config[\"log_to_wandb\"]\n",
    "log_interval = config[\"log_interval\"]\n",
    "checkpoint_interval_steps = config[\"checkpoint_interval_steps\"]\n",
    "seed = config[\"seed\"]\n",
    "wandb_project = config[\"wandb_project\"]\n",
    "validation_interval = config[\"validation_interval\"]\n",
    "validation_samples = config[\"validation_samples\"]\n",
    "watch_model = config[\"watch_model\"]\n",
    "\n",
    "llm_generation_config = config.get(\"llm_generation_config\", {})\n",
    "llm_kwargs = config.get(\"llm_kwargs\", None)\n",
    "tokenizer_kwargs = config.get(\"tokenizer_kwargs\", None)\n",
    "faiss_kwargs = config.get(\"faiss_kwargs\", None)"
   ]
  },
  {
   "cell_type": "code",
   "execution_count": null,
   "metadata": {},
   "outputs": [],
   "source": [
    "pretrained_model_path = \"/home/3144860/wiki/wiki-savvy-rag/checkpoints/final/step100\"\n",
    "rag_handler = RagHandler(\n",
    "    model_name=model_name,\n",
    "    device=device,\n",
    "    use_qlora=use_qlora,\n",
    "    llm_generation_config=llm_generation_config,\n",
    "    llm_kwargs=llm_kwargs,\n",
    "    tokenizer_kwargs=tokenizer_kwargs,\n",
    "    faiss_kwargs=faiss_kwargs,\n",
    "    pretrained_model_path=pretrained_model_path,\n",
    ")"
   ]
  }
 ],
 "metadata": {
  "kernelspec": {
   "display_name": "nlp",
   "language": "python",
   "name": "python3"
  },
  "language_info": {
   "codemirror_mode": {
    "name": "ipython",
    "version": 3
   },
   "file_extension": ".py",
   "mimetype": "text/x-python",
   "name": "python",
   "nbconvert_exporter": "python",
   "pygments_lexer": "ipython3",
   "version": "3.11.8"
  }
 },
 "nbformat": 4,
 "nbformat_minor": 2
}
