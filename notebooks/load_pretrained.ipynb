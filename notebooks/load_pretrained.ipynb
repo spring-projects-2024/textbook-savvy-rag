{
 "cells": [
  {
   "cell_type": "code",
   "execution_count": 2,
   "metadata": {},
   "outputs": [],
   "source": [
    "import yaml\n",
    "import argparse\n",
    "from backend.model.rag_handler import RagHandler\n",
    "\n",
    "\n",
    "config_path = \"configs/training/final.yaml\"\n",
    "with open(config_path, \"r\") as f:\n",
    "    config = yaml.safe_load(f)\n",
    "\n",
    "device = config[\"device\"]\n",
    "model_name = config[\"model_name\"]\n",
    "run_id = config[\"run_id\"]\n",
    "use_qlora = config[\"use_qlora\"]\n",
    "optimizer_params = config[\"optimizer_params\"]\n",
    "max_epochs = config[\"max_epochs\"]\n",
    "batch_size = config[\"batch_size\"]\n",
    "gradient_accumulation_steps = config[\"gradient_accumulation_steps\"]\n",
    "log_to_wandb = config[\"log_to_wandb\"]\n",
    "log_interval = config[\"log_interval\"]\n",
    "checkpoint_interval_steps = config[\"checkpoint_interval_steps\"]\n",
    "seed = config[\"seed\"]\n",
    "wandb_project = config[\"wandb_project\"]\n",
    "validation_interval = config[\"validation_interval\"]\n",
    "validation_samples = config[\"validation_samples\"]\n",
    "watch_model = config[\"watch_model\"]\n",
    "\n",
    "llm_generation_config = config.get(\"llm_generation_config\", {})\n",
    "llm_kwargs = config.get(\"llm_kwargs\", None)\n",
    "tokenizer_kwargs = config.get(\"tokenizer_kwargs\", None)\n",
    "faiss_kwargs = config.get(\"faiss_kwargs\", None)"
   ]
  },
  {
   "cell_type": "code",
   "execution_count": null,
   "metadata": {},
   "outputs": [],
   "source": [
    "pretrained_model_path = \"/home/3144860/wiki/wiki-savvy-rag/checkpoints/final/step100\"\n",
    "rag_handler = RagHandler(\n",
    "    model_name=model_name,\n",
    "    device=device,\n",
    "    use_qlora=use_qlora,\n",
    "    llm_generation_config=llm_generation_config,\n",
    "    llm_kwargs=llm_kwargs,\n",
    "    tokenizer_kwargs=tokenizer_kwargs,\n",
    "    faiss_kwargs=faiss_kwargs,\n",
    "    pretrained_model_path=pretrained_model_path,\n",
    ")"
   ]
  }
 ],
 "metadata": {
  "kernelspec": {
   "display_name": "nlp",
   "language": "python",
   "name": "python3"
  },
  "language_info": {
   "codemirror_mode": {
    "name": "ipython",
    "version": 3
   },
   "file_extension": ".py",
   "mimetype": "text/x-python",
   "name": "python",
   "nbconvert_exporter": "python",
   "pygments_lexer": "ipython3",
   "version": "3.11.8"
  }
 },
 "nbformat": 4,
 "nbformat_minor": 2
}
